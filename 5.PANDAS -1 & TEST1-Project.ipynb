{
 "cells": [
  {
   "cell_type": "markdown",
   "metadata": {},
   "source": [
    "# Mukesh Kumar Sanodiya (12-Jan-2019)"
   ]
  },
  {
   "cell_type": "markdown",
   "metadata": {},
   "source": [
    "# 5.PANDAS -1 & TEST1-Project (Test-1)"
   ]
  },
  {
   "cell_type": "markdown",
   "metadata": {},
   "source": [
    "# 1.\n",
    "Write a program in Python with one class called Cipher.\n",
    "Within the constructor of this class, ask user for a string\n",
    "and store it. Use a static variable, key to store a randomly\n",
    "generated integer between 1 and 50 inclusive. Implement\n",
    "two methods, encrypt and decrypt within this class. Encrypt\n",
    "generates and prints a cipher text using the user-entered\n",
    "string and the key and decrypt generates decrypted string\n",
    "from ciphertext. The cipher only encrypts alpha and\n",
    "numeric (A-Z, a-z, 0-9). All Symbols, such as - , ; %, remain\n",
    "unencrypted. The cipher text can have special characters.\n",
    "Use generator expression to filter out alpha and numeric\n",
    "characters of the input string and to generate cipher text.\n",
    "Create an instance of this class, encrypt and decrypt back\n",
    "the user entered string.\n",
    "\n"
   ]
  },
  {
   "cell_type": "code",
   "execution_count": 2,
   "metadata": {},
   "outputs": [
    {
     "name": "stdout",
     "output_type": "stream",
     "text": [
      "\tEnter string message :- Name Mukesh Kumar Sanodiya A/C 180000527829\n",
      "Encrypted Message :-  Tgsk Saqkyn Qasgx Ygtujoeg G/I 524444961263\n",
      "Decrypted Message :-  Name Mukesh Kumar Sanodiya A/C 180000527829\n"
     ]
    }
   ],
   "source": [
    "import random\n",
    "class Cipher():\n",
    "    randomNumber=  random.randint(1,51)\n",
    "    cryptoKey = randomNumber - 26 if randomNumber > 26 else randomNumber #static variable\n",
    "    def __init__(self):\n",
    "        self.stringMsg = input(\"\\tEnter string message :- \")\n",
    "      \n",
    "    def getCryptedMessage(self,symbol, key):\n",
    "        \n",
    "        if symbol.isalnum(): #to checkalph numeric character\n",
    "            num = ord(symbol) \n",
    "            if symbol.isdigit():\n",
    "                newkey = int(key/10) + 4 if key > 0 else int(key/10) + -4\n",
    "                num += newkey\n",
    "                if num > ord('9'):\n",
    "                    num -= 10\n",
    "                elif num < ord('0'):\n",
    "                    num += 10\n",
    "                \n",
    "            if symbol.isupper():\n",
    "                num += key\n",
    "                if num > ord('Z'):\n",
    "                    num -= 26\n",
    "                elif num < ord('A'):\n",
    "                    num += 26\n",
    "            elif symbol.islower():\n",
    "                num += key\n",
    "                if num > ord('z'):\n",
    "                    num -= 26\n",
    "                elif num < ord('a'):\n",
    "                    num += 26\n",
    "            return chr(num)\n",
    "        else:\n",
    "            return symbol\n",
    "           \n",
    "    def encrypt(self):\n",
    "        '''To print encrypted value of input string'''\n",
    "        genexpr = (self.getCryptedMessage(char, self.cryptoKey) for char in self.stringMsg)\n",
    "        encryptedMsg = ''\n",
    "        for data in genexpr:\n",
    "            encryptedMsg +=data\n",
    "#         print (\"Normal Message:\",self.stringMsg)\n",
    "        print (\"Encrypted Message :- \",encryptedMsg)\n",
    "        self.stringMsg = encryptedMsg\n",
    "        \n",
    "        \n",
    "    def decrypt(self):\n",
    "        '''To print decrypted value of string'''\n",
    "        cryptoKey = -self.cryptoKey \n",
    "        genexpr = (self.getCryptedMessage(char, cryptoKey) for char in self.stringMsg) # generator expression\n",
    "        decrypedMsg = ''\n",
    "        for data in genexpr:\n",
    "            decrypedMsg +=data\n",
    "#         print (\"Normal Message:\",self.stringMsg)\n",
    "        print (\"Decrypted Message :- \",decrypedMsg)\n",
    "        \n",
    "cipher = Cipher()\n",
    "cipher.encrypt()\n",
    "cipher.decrypt()\n",
    "        "
   ]
  },
  {
   "cell_type": "code",
   "execution_count": null,
   "metadata": {},
   "outputs": [],
   "source": []
  },
  {
   "cell_type": "code",
   "execution_count": null,
   "metadata": {},
   "outputs": [],
   "source": []
  }
 ],
 "metadata": {
  "kernelspec": {
   "display_name": "Python 3",
   "language": "python",
   "name": "python3"
  },
  "language_info": {
   "codemirror_mode": {
    "name": "ipython",
    "version": 3
   },
   "file_extension": ".py",
   "mimetype": "text/x-python",
   "name": "python",
   "nbconvert_exporter": "python",
   "pygments_lexer": "ipython3",
   "version": "3.7.0"
  }
 },
 "nbformat": 4,
 "nbformat_minor": 2
}
